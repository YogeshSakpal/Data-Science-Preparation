{
 "cells": [
  {
   "cell_type": "markdown",
   "metadata": {},
   "source": [
    "### Data Drift - \n",
    "\n",
    "Data drift is a change in the distribution of data over time. In case of operational machine learning models, data drift is the change in the distribution of a baseline data set on which the model was trained and the current real-time production data. Real-time production data distributions can drift from the baseline data set over time due to changes in the real world or changes in measures. We can broadly classify 3 types of drift: concept drift, data drift, and upstream data changes.\n",
    "\n",
    "1. Concept drift happens when the statistical properties of the target variable itself change. The meaning of what you are trying to predict changes and therefore the model will not work well for this updated definition. For example, the definition of what is considered a fraudulent transaction could change over time.\n",
    "\n",
    "2. Data drift happens when the statistical properties of the underlying variables that predict an outcome change. A classic example is the natural drift in data due to seasonality.\n",
    "\n",
    "3. Upstream Data Change happens when there is a change in the data pipeline upstream which has an impact on the model performance. For example, camera’s being replaced and as a consequence the units of measurement change.\n"
   ]
  },
  {
   "cell_type": "markdown",
   "metadata": {},
   "source": [
    "### How to Address Concept Drift?\n",
    "There are many ways to address concept drift; let’s take a look at a few.\n",
    "\n",
    "1. Do Nothing (Static Model)\n",
    "The most common way is to not handle it at all and assume that the data does not change.\n",
    "\n",
    "This allows you to develop a single “best” model once and use it on all future data.\n",
    "\n",
    "This should be your starting point and baseline for comparison to other methods. If you believe your dataset may suffer concept drift, you can use a static model in two ways:\n",
    "\n",
    "Concept Drift Detection. Monitor skill of the static model over time and if skill drops, perhaps concept drift is occurring and some intervention is required.\n",
    "Baseline Performance. Use the skill of the static model as a baseline to compare to any intervention you make.\n",
    "2. Periodically Re-Fit\n",
    "A good first-level intervention is to periodically update your static model with more recent historical data.\n",
    "\n",
    "For example, perhaps you can update the model each month or each year with the data collected from the prior period.\n",
    "\n",
    "This may also involve back-testing the model in order to select a suitable amount of historical data to include when re-fitting the static model.\n",
    "\n",
    "In some cases, it may be appropriate to only include a small portion of the most recent historical data to best capture the new relationships between inputs and outputs (e.g. the use of a sliding window).\n",
    "\n",
    "3. Periodically Update\n",
    "Some machine learning models can be updated.\n",
    "\n",
    "This is an efficiency over the previous approach (periodically re-fit) where instead of discarding the static model completely, the existing state is used as the starting point for a fit process that updates the model fit using a sample of the most recent historical data.\n",
    "\n",
    "For example, this approach is suitable for most machine learning algorithms that use weights or coefficients such as regression algorithms and neural networks.\n",
    "\n",
    "4. Weight Data\n",
    "Some algorithms allow you to weigh the importance of input data.\n",
    "\n",
    "In this case, you can use a weighting that is inversely proportional to the age of the data such that more attention is paid to the most recent data (higher weight) and less attention is paid to the least recent data (smaller weight).\n",
    "\n",
    "5. Learn The Change\n",
    "An ensemble approach can be used where the static model is left untouched, but a new model learns to correct the predictions from the static model based on the relationships in more recent data.\n",
    "\n",
    "This may be thought of as a boosting type ensemble (in spirit only) where subsequent models correct the predictions from prior models. The key difference here is that subsequent models are fit on different and more recent data, as opposed to a weighted form of the same dataset, as in the case of AdaBoost and gradient boosting.\n",
    "\n",
    "6. Detect and Choose Model\n",
    "For some problem domains it may be possible to design systems to detect changes and choose a specific and different model to make predictions.\n",
    "\n",
    "This may be appropriate for domains that expect abrupt changes that may have occurred in the past and can be checked for in the future. It also assumes that it is possible to develop skillful models to handle each of the detectable changes to the data.\n",
    "\n",
    "For example, the abrupt change may be a specific observation or observations in a range, or the change in the distribution of one or more input variables.\n",
    "\n",
    "7. Data Preparation\n",
    "In some domains, such as time series problems, the data may be expected to change over time.\n",
    "\n",
    "In these types of problems, it is common to prepare the data in such a way as to remove the systematic changes to the data over time, such as trends and seasonality by differencing.\n",
    "\n",
    "This is so common that it is built into classical linear methods like the ARIMA model.\n",
    "\n",
    "Typically, we do not consider systematic change to the data as a problem of concept drift because it can be dealt with directly. Rather, these examples may be a useful way of thinking about your problem and may help you anticipate change and prepare data in a specific way using standardization, scaling, projections, and more to mitigate or at least reduce the effects of change to input variables in the future."
   ]
  },
  {
   "cell_type": "markdown",
   "metadata": {},
   "source": [
    "### Decorator in Python\n",
    "\n",
    "A decorator is a design pattern in Python that allows a user to add new functionality to an existing object without modifying its structure. Decorators are usually called before the definition of a function you want to decorate. In this tutorial, we'll show the reader how they can use decorators in their Python functions.\n",
    "\n",
    "Functions in Python are first class citizens. This means that they support operations such as being passed as an argument, returned from a function, modified, and assigned to a variable. This is a fundamental concept to understand before we delve into creating Python decorators.\n",
    "\n",
    "Assigning Functions to Variables\n",
    "To kick us off we create a function that will add one to a number whenever it is called. We'll then assign the function to a variable and use this variable to call the function.\n",
    "\n",
    "\n",
    "\n"
   ]
  },
  {
   "cell_type": "code",
   "execution_count": 1,
   "metadata": {},
   "outputs": [
    {
     "data": {
      "text/plain": [
       "6"
      ]
     },
     "execution_count": 1,
     "metadata": {},
     "output_type": "execute_result"
    }
   ],
   "source": [
    "def plus_one(number):\n",
    "\n",
    "    return number + 1\n",
    "\n",
    "add_one = plus_one\n",
    "\n",
    "add_one(5)"
   ]
  },
  {
   "cell_type": "code",
   "execution_count": null,
   "metadata": {},
   "outputs": [],
   "source": []
  }
 ],
 "metadata": {
  "kernelspec": {
   "display_name": "Python 3",
   "language": "python",
   "name": "python3"
  },
  "language_info": {
   "codemirror_mode": {
    "name": "ipython",
    "version": 3
   },
   "file_extension": ".py",
   "mimetype": "text/x-python",
   "name": "python",
   "nbconvert_exporter": "python",
   "pygments_lexer": "ipython3",
   "version": "3.8.5"
  }
 },
 "nbformat": 4,
 "nbformat_minor": 4
}
